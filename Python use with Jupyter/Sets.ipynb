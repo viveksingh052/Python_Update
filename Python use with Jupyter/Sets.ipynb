{
 "cells": [
  {
   "cell_type": "markdown",
   "id": "75066e3e-5f92-4d85-87f2-57f442da3927",
   "metadata": {},
   "source": [
    "# Sets"
   ]
  },
  {
   "cell_type": "code",
   "execution_count": 6,
   "id": "33c1fc38-f24f-4209-8495-c7b153beefdb",
   "metadata": {},
   "outputs": [
    {
     "name": "stdout",
     "output_type": "stream",
     "text": [
      "{1, 2, 3, 4, 5}\n",
      "set()\n"
     ]
    }
   ],
   "source": [
    "aman = set([1,2,3,4,5])\n",
    "print(aman)\n",
    "\n",
    "vivek = set()\n",
    "print(vivek)\n",
    "\n"
   ]
  },
  {
   "cell_type": "code",
   "execution_count": 10,
   "id": "a8ebb0a1-cfa0-4454-bcc2-fef915a60ce6",
   "metadata": {},
   "outputs": [
    {
     "name": "stdout",
     "output_type": "stream",
     "text": [
      "{1, 2, 3, 4, 5}\n"
     ]
    }
   ],
   "source": [
    "set1 = {1,2,3,4}\n",
    "set1.add(5)\n",
    "print(set1)\n",
    "\n",
    "# Add single element in a set."
   ]
  },
  {
   "cell_type": "code",
   "execution_count": 26,
   "id": "1bd1e681-bc44-489f-bac1-d7695a0ea61c",
   "metadata": {},
   "outputs": [
    {
     "name": "stdout",
     "output_type": "stream",
     "text": [
      "{1, 2, 3, 4, 5, 6, 7, 8, 9}\n"
     ]
    }
   ],
   "source": [
    "set1.update([6,7,8,8,9,9])\n",
    "print(set1)\n",
    "\n",
    "# Add multiple items in a set."
   ]
  },
  {
   "cell_type": "code",
   "execution_count": 28,
   "id": "4644dfdd-d258-446a-a1ce-354f17958865",
   "metadata": {},
   "outputs": [
    {
     "name": "stdout",
     "output_type": "stream",
     "text": [
      "{1, 2, 3, 4, 5, 6, 7, 8}\n"
     ]
    }
   ],
   "source": [
    "set1.remove(9)\n",
    "print(set1)\n",
    "\n",
    "# set1.remove(10)\n",
    "# print(set1)   # it raises eroor because the element is not exists\n",
    "\n",
    "# Removes a specified element from the set. If the element is not found, it raises a KeyError."
   ]
  },
  {
   "cell_type": "code",
   "execution_count": 30,
   "id": "45b81940-ea4c-4b39-afef-e8b715ff4d6e",
   "metadata": {},
   "outputs": [
    {
     "name": "stdout",
     "output_type": "stream",
     "text": [
      "{1, 2, 3, 4, 5, 6, 7, 8}\n"
     ]
    }
   ],
   "source": [
    "set1.discard(10)\n",
    "print(set1)\n",
    "\n",
    "# is the element is not present in the set the discard method not throws a keyerror."
   ]
  },
  {
   "cell_type": "code",
   "execution_count": 48,
   "id": "8c3a70d3-af25-498b-ae47-f247d1b4ccb6",
   "metadata": {},
   "outputs": [
    {
     "name": "stdout",
     "output_type": "stream",
     "text": [
      "{2, 3, 4, 5, 6}\n",
      "{1, 2, 3, 4, 5, 6, 7, 8, 9}\n"
     ]
    }
   ],
   "source": [
    "set2 = {1,2,3,4,5,6}\n",
    "set2.pop()\n",
    "print(set2)\n",
    "\n",
    "set3 = {9,8,7,6,5,4,3,2,1,0}\n",
    "set3.pop()\n",
    "print(set3)\n",
    "\n",
    "# Removes and returns an arbitrary element from the set."
   ]
  },
  {
   "cell_type": "code",
   "execution_count": 50,
   "id": "52860028-5821-42e5-8d6c-65810d0e0404",
   "metadata": {},
   "outputs": [
    {
     "name": "stdout",
     "output_type": "stream",
     "text": [
      "set()\n"
     ]
    }
   ],
   "source": [
    "set3 = {1,2,3,4,4}\n",
    "set3.clear()\n",
    "print(set3)\n",
    "\n",
    "#Removes all elements from the set, making it empty."
   ]
  },
  {
   "cell_type": "code",
   "execution_count": 60,
   "id": "a5b82bf2-6804-4b1c-bbac-ad2f4b4c94fe",
   "metadata": {},
   "outputs": [
    {
     "data": {
      "text/plain": [
       "{1, 2, 3, 4, 5, 6, 7}"
      ]
     },
     "execution_count": 60,
     "metadata": {},
     "output_type": "execute_result"
    }
   ],
   "source": [
    "set4 = {1,2,3,4,4,5,6,6,7}\n",
    "set5 = {7,4,3,2,6,1,2}\n",
    "\n",
    "set4.union(set5)\n",
    "set4 | set5\n",
    "\n",
    "# Returns a new set containing all elements from both sets (the union of the sets). It can also be called using the | operator."
   ]
  },
  {
   "cell_type": "code",
   "execution_count": 68,
   "id": "3075b703-7e3b-43f6-bd92-a583948adf9d",
   "metadata": {},
   "outputs": [
    {
     "name": "stdout",
     "output_type": "stream",
     "text": [
      "{1, 2, 3, 4, 6, 7}\n"
     ]
    }
   ],
   "source": [
    "# set4.intersection(set5)\n",
    "\n",
    "set6 = set4 & set5\n",
    "print(set6)\n",
    "# Returns a new set containing only the elements that are common to both sets (the intersection of the sets). It can also be called using the & operator."
   ]
  },
  {
   "cell_type": "code",
   "execution_count": 70,
   "id": "3677d824-8aa5-40bc-aeba-96bdb6ad2dba",
   "metadata": {},
   "outputs": [
    {
     "data": {
      "text/plain": [
       "{5}"
      ]
     },
     "execution_count": 70,
     "metadata": {},
     "output_type": "execute_result"
    }
   ],
   "source": [
    "# set4.difference(set5)\n",
    "\n",
    "set4 - set5\n",
    "\n",
    "\n",
    "# Returns a new set containing all the elements that are in the first set but not in the second (the difference). It can also be called using the - operator."
   ]
  },
  {
   "cell_type": "code",
   "execution_count": 74,
   "id": "c300d85d-cd8e-4abb-98cb-f008518faad9",
   "metadata": {},
   "outputs": [
    {
     "data": {
      "text/plain": [
       "{1, 2, 3, 5, 6, 7}"
      ]
     },
     "execution_count": 74,
     "metadata": {},
     "output_type": "execute_result"
    }
   ],
   "source": [
    "set7 = {1,2,3,4}\n",
    "set8 = {4,5,6,7}\n",
    "\n",
    "# set7.symmetric_difference(set8)\n",
    "set7 ^ set8\n",
    "\n",
    "# returns a new set containing all elements that are in either of the sets, but not in both (the symmetric difference). It can also be called using the ^ operator."
   ]
  },
  {
   "cell_type": "code",
   "execution_count": 80,
   "id": "2c9078a5-e094-4ea3-9264-4348268a0b7e",
   "metadata": {},
   "outputs": [
    {
     "data": {
      "text/plain": [
       "False"
      ]
     },
     "execution_count": 80,
     "metadata": {},
     "output_type": "execute_result"
    }
   ],
   "source": [
    "set9 = {1,2,3}\n",
    "set10 = {1,2,3,4,5}\n",
    "\n",
    "set9.issubset(set10) # Gives True\n",
    "set10.issubset(set9) # Gives False\n",
    "\n",
    "# Checks if all elements of the set are contained in another set. Returns True if the set is a subset of another set, otherwise False."
   ]
  },
  {
   "cell_type": "code",
   "execution_count": 82,
   "id": "22086e2f-abc2-4d6e-bc32-5b0d18ca1f5e",
   "metadata": {},
   "outputs": [
    {
     "data": {
      "text/plain": [
       "5"
      ]
     },
     "execution_count": 82,
     "metadata": {},
     "output_type": "execute_result"
    }
   ],
   "source": [
    "len(set10)\n",
    "\n",
    "# gives the length of the set that how many items are in that set."
   ]
  },
  {
   "cell_type": "code",
   "execution_count": 90,
   "id": "ebec6db9-db6d-4568-a0a3-5110d1f5567e",
   "metadata": {},
   "outputs": [
    {
     "name": "stdout",
     "output_type": "stream",
     "text": [
      "{1, 2, 4, 5}\n"
     ]
    }
   ],
   "source": [
    "set11 = {1,2,4,5}\n",
    "set12 = set11.copy()\n",
    "\n",
    "print(set12)\n",
    "\n",
    "#Returns a shallow copy of the set."
   ]
  },
  {
   "cell_type": "code",
   "execution_count": 94,
   "id": "27205955-352d-45c3-a8f5-02b300e890ed",
   "metadata": {},
   "outputs": [
    {
     "data": {
      "text/plain": [
       "True"
      ]
     },
     "execution_count": 94,
     "metadata": {},
     "output_type": "execute_result"
    }
   ],
   "source": [
    "set13 = {5,6,7}\n",
    "set14 = {8,9,10}\n",
    "\n",
    "set13.isdisjoint(set14)\n",
    "\n",
    "#checks that no elements are common gives true .           "
   ]
  },
  {
   "cell_type": "code",
   "execution_count": 102,
   "id": "52dce5b2-05b2-4c0c-b849-711979be9784",
   "metadata": {},
   "outputs": [
    {
     "data": {
      "text/plain": [
       "False"
      ]
     },
     "execution_count": 102,
     "metadata": {},
     "output_type": "execute_result"
    }
   ],
   "source": [
    "set15 = {1,2}\n",
    "set16 = {1,2,3,4,5}\n",
    "\n",
    "set16.issuperset(set15)\n",
    "set15.issuperset(set16)\n",
    "\n",
    "#Checks if the set contains all elements of another set. Returns True if the set is a superset of another set, otherwise False."
   ]
  }
 ],
 "metadata": {
  "kernelspec": {
   "display_name": "Python [conda env:base] *",
   "language": "python",
   "name": "conda-base-py"
  },
  "language_info": {
   "codemirror_mode": {
    "name": "ipython",
    "version": 3
   },
   "file_extension": ".py",
   "mimetype": "text/x-python",
   "name": "python",
   "nbconvert_exporter": "python",
   "pygments_lexer": "ipython3",
   "version": "3.12.7"
  }
 },
 "nbformat": 4,
 "nbformat_minor": 5
}
