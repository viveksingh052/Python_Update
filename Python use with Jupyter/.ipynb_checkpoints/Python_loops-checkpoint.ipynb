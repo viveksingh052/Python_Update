{
 "cells": [
  {
   "cell_type": "markdown",
   "metadata": {},
   "source": [
    "# Control Flow Statements"
   ]
  },
  {
   "cell_type": "code",
   "execution_count": 6,
   "metadata": {},
   "outputs": [
    {
     "name": "stdin",
     "output_type": "stream",
     "text": [
      "Enter your age:  45\n"
     ]
    },
    {
     "name": "stdout",
     "output_type": "stream",
     "text": [
      "He/She is eligible for the vote\n"
     ]
    }
   ],
   "source": [
    "a = int(input(\"Enter your age: \"))\n",
    "\n",
    "if(a>18):\n",
    "    print(\"He/She is eligible for the vote\")\n",
    "else:\n",
    "    print(\"Not Eligible\")"
   ]
  },
  {
   "cell_type": "markdown",
   "metadata": {},
   "source": [
    "Q1.Write a program that checks if a given number is positive, negative, or zero. Use if-else statements."
   ]
  },
  {
   "cell_type": "code",
   "execution_count": 19,
   "metadata": {},
   "outputs": [
    {
     "name": "stdin",
     "output_type": "stream",
     "text": [
      "Enter the Number: -6\n"
     ]
    },
    {
     "name": "stdout",
     "output_type": "stream",
     "text": [
      "The number is negative-6\n"
     ]
    }
   ],
   "source": [
    "number = int(input(\"Enter the Number:\"))\n",
    "\n",
    "if(number>0):\n",
    "    print(f\"The number is positive {number}\")\n",
    "elif(number ==0):\n",
    "    print(f\"The number is zero {number}\")\n",
    "else:\n",
    "    print(f\"The number is negative{number}\")"
   ]
  },
  {
   "cell_type": "markdown",
   "metadata": {},
   "source": [
    "Q2.Write a Python program to check whether a given number is even or odd using conditional statements"
   ]
  },
  {
   "cell_type": "code",
   "execution_count": 24,
   "metadata": {},
   "outputs": [
    {
     "name": "stdin",
     "output_type": "stream",
     "text": [
      "Enter the number 9\n"
     ]
    },
    {
     "name": "stdout",
     "output_type": "stream",
     "text": [
      "The number is odd ie. 9\n"
     ]
    }
   ],
   "source": [
    "number = int(input(\"Enter the number\"))\n",
    "\n",
    "if(number%2==0):\n",
    "    print(f\"The number is even ie. {number}\")\n",
    "else:\n",
    "    print(f\"The number is odd ie. {number}\")\n"
   ]
  },
  {
   "cell_type": "markdown",
   "metadata": {},
   "source": [
    "Q3.Write a program that categorizes a person’s age into the following categories:\n",
    "\n",
    "Under 13: \"Child\"\n",
    "13 to 19: \"Teenager\"\n",
    "20 to 64: \"Adult\"\n",
    "65 or older: \"Senior\""
   ]
  },
  {
   "cell_type": "code",
   "execution_count": 33,
   "metadata": {},
   "outputs": [
    {
     "name": "stdin",
     "output_type": "stream",
     "text": [
      "Enter the age: 45\n"
     ]
    },
    {
     "name": "stdout",
     "output_type": "stream",
     "text": [
      "Adult\n"
     ]
    }
   ],
   "source": [
    "age = int(input(\"Enter the age:\"))\n",
    "\n",
    "if(age<13):\n",
    "    print(\"Child\")\n",
    "elif(age>=13 and age<=19):\n",
    "    print(\"Teenager\")\n",
    "elif(age>=20 and age<=64):\n",
    "    print(\"Adult\")\n",
    "elif(age>=65):\n",
    "    print(\"Senior\")\n",
    "                \n",
    "                "
   ]
  },
  {
   "cell_type": "markdown",
   "metadata": {},
   "source": [
    "Q4.Write a program that takes two numbers and prints the greater of the two using an if-else statement."
   ]
  },
  {
   "cell_type": "code",
   "execution_count": 38,
   "metadata": {},
   "outputs": [
    {
     "name": "stdin",
     "output_type": "stream",
     "text": [
      "Enter thE first number: 14.98\n",
      "Enter the second number: 78.90\n"
     ]
    },
    {
     "name": "stdout",
     "output_type": "stream",
     "text": [
      "The number 78.9 is greater than number 14.98\n"
     ]
    }
   ],
   "source": [
    "a = float(input(\"Enter thE first number:\"))\n",
    "b = float(input(\"Enter the second number:\"))\n",
    "\n",
    "if(a>b):\n",
    "    print(f\"The number {a} is greater than number {b}\")\n",
    "else:\n",
    "    print(f\"The number {b} is greater than number {a}\")"
   ]
  },
  {
   "cell_type": "markdown",
   "metadata": {},
   "source": [
    "Q5.Write a program that checks a student's score (out of 100) and prints the corresponding grade based on these conditions:\n",
    "\n",
    "90 or above: \"A\"\n",
    "80-89: \"B\"\n",
    "70-79: \"C\"\n",
    "60-69: \"D\"\n",
    "Below 60: \"F\""
   ]
  },
  {
   "cell_type": "code",
   "execution_count": 51,
   "metadata": {},
   "outputs": [
    {
     "name": "stdin",
     "output_type": "stream",
     "text": [
      "Enter the marks: 79\n"
     ]
    },
    {
     "name": "stdout",
     "output_type": "stream",
     "text": [
      "C\n"
     ]
    }
   ],
   "source": [
    "marks = int(input(\"Enter the marks:\"))\n",
    "\n",
    "if(marks==90 or marks >=90):\n",
    "    print(\"A\")\n",
    "elif(marks>=80 and marks <=89):\n",
    "    print(\"B\")\n",
    "elif(marks>=70 and marks<=79):\n",
    "    print(\"C\")\n",
    "elif(marks>=60 and marks<=69): \n",
    "    print(\"D\")\n",
    "elif(marks<60):\n",
    "    print(\"Fail\")"
   ]
  },
  {
   "cell_type": "markdown",
   "metadata": {},
   "source": [
    "Q6.Write a program that checks if a given year is a leap year or not. A leap year is divisible by 4, but not by 100 unless also divisible by 400."
   ]
  },
  {
   "cell_type": "code",
   "execution_count": 62,
   "metadata": {},
   "outputs": [
    {
     "name": "stdin",
     "output_type": "stream",
     "text": [
      "Enter the year 2000\n"
     ]
    },
    {
     "name": "stdout",
     "output_type": "stream",
     "text": [
      "It is a leap year \n"
     ]
    }
   ],
   "source": [
    "year = int(input(\"Enter the year\"))\n",
    "if(year%4==0):\n",
    "    if(year%100==0 and year%400==0):\n",
    "        print(f\"It is a leap year \")\n",
    "    else:\n",
    "        print(f\"The {year} is not a leap year \")"
   ]
  },
  {
   "cell_type": "markdown",
   "metadata": {},
   "source": [
    "Q7.Write a Python program that takes two numbers and checks whether both are positive or both are negative. Use logical operators."
   ]
  },
  {
   "cell_type": "code",
   "execution_count": 85,
   "metadata": {},
   "outputs": [
    {
     "name": "stdin",
     "output_type": "stream",
     "text": [
      "Enter the first number -11\n",
      "Enter the second number -11\n"
     ]
    },
    {
     "name": "stdout",
     "output_type": "stream",
     "text": [
      "Both are negative\n"
     ]
    }
   ],
   "source": [
    "number1 = int(input(\"Enter the first number\"))\n",
    "number2 = int(input(\"Enter the second number\"))\n",
    "\n",
    "if(number1>0 and number2>0):\n",
    "    print(\"Both are positive\")\n",
    "elif(number1>0 and number2<0 or number1<0 and number2>0):\n",
    "    print(\"One number is positive and one number is negative\")\n",
    "else:\n",
    "    print(\"Both are negative\")\n",
    "    "
   ]
  },
  {
   "cell_type": "markdown",
   "metadata": {},
   "source": [
    "Q8. Write a Python program that checks if a given number is within a specific range:\n",
    "Between 1 and 10: \"Low\"\n",
    "Between 11 and 50: \"Medium\"\n",
    "Greater than 50: \"High\" If the number is less than or equal to 0, print \"Invalid number\"."
   ]
  },
  {
   "cell_type": "code",
   "execution_count": 92,
   "metadata": {},
   "outputs": [
    {
     "name": "stdin",
     "output_type": "stream",
     "text": [
      "Enter the number 50\n"
     ]
    },
    {
     "name": "stdout",
     "output_type": "stream",
     "text": [
      "Medium\n"
     ]
    }
   ],
   "source": [
    "number = int(input(\"Enter the number\"))\n",
    "\n",
    "if(number>=1 and number<=10):\n",
    "    print(\"Low\")\n",
    "elif(number>=11 and number<=50):\n",
    "    print(\"Medium\")\n",
    "elif(number>50):\n",
    "    print(\"High\")\n",
    "elif(number<=0):\n",
    "    print(\"Invalid Number\")"
   ]
  }
 ],
 "metadata": {
  "kernelspec": {
   "display_name": "Python [conda env:base] *",
   "language": "python",
   "name": "conda-base-py"
  },
  "language_info": {
   "codemirror_mode": {
    "name": "ipython",
    "version": 3
   },
   "file_extension": ".py",
   "mimetype": "text/x-python",
   "name": "python",
   "nbconvert_exporter": "python",
   "pygments_lexer": "ipython3",
   "version": "3.12.7"
  }
 },
 "nbformat": 4,
 "nbformat_minor": 4
}
