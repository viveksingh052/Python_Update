{
 "cells": [
  {
   "cell_type": "markdown",
   "id": "eef51282-8ef8-46c9-9a0d-33df9a81acd1",
   "metadata": {},
   "source": [
    "Q1.Write a Python program that prints the numbers from 1 to 10 using a for loop."
   ]
  },
  {
   "cell_type": "code",
   "execution_count": 10,
   "id": "6d9b58ef-ace5-4a2a-bf26-628acd021766",
   "metadata": {},
   "outputs": [
    {
     "name": "stdout",
     "output_type": "stream",
     "text": [
      "1\n",
      "2\n",
      "3\n",
      "4\n",
      "5\n",
      "6\n",
      "7\n",
      "8\n",
      "9\n",
      "10\n"
     ]
    }
   ],
   "source": [
    "for i in range(1,11):\n",
    "    print(i)"
   ]
  },
  {
   "cell_type": "markdown",
   "id": "c990eae8-a0df-46d3-8c08-a0bccc8b38d3",
   "metadata": {},
   "source": [
    "Q2.Write a Python program that uses a while loop to calculate and print the sum of the first 50 positive integers."
   ]
  },
  {
   "cell_type": "code",
   "execution_count": 13,
   "id": "493fe4ee-010b-4b2d-981a-3b49fde49f0d",
   "metadata": {},
   "outputs": [
    {
     "name": "stdout",
     "output_type": "stream",
     "text": [
      "1275\n"
     ]
    }
   ],
   "source": [
    "i = 0\n",
    "sum = 0\n",
    "while(i<=50):\n",
    "    sum = sum + i\n",
    "    i = i+1\n",
    "\n",
    "\n",
    "print(sum)\n",
    "    "
   ]
  },
  {
   "cell_type": "markdown",
   "id": "0a78ba8f-e00f-4f84-b2ed-57e35c2d4129",
   "metadata": {},
   "source": [
    "Q3. Write a Python program that prints all the even numbers from 1 to n, where n is a number entered by the user.\n"
   ]
  },
  {
   "cell_type": "code",
   "execution_count": 20,
   "id": "4f0caed5-63c2-4663-acb6-187143deb5bd",
   "metadata": {},
   "outputs": [
    {
     "name": "stdout",
     "output_type": "stream",
     "text": [
      "Enter the number 50\n"
     ]
    },
    {
     "name": "stdout",
     "output_type": "stream",
     "text": [
      "2 4 6 8 10 12 14 16 18 20 22 24 26 28 30 32 34 36 38 40 42 44 46 48 50 "
     ]
    }
   ],
   "source": [
    "number = int(input(\"Enter the number\"))\n",
    "\n",
    "for i in range(1,number+1):\n",
    "    if(i%2==0):\n",
    "        print(i , end=\" \")\n",
    "        "
   ]
  },
  {
   "cell_type": "markdown",
   "id": "f8cdafc9-c907-4542-803a-ea285718adc8",
   "metadata": {},
   "source": [
    "Q4.Write a Python program that prints all the odd numbers between 1 and n, where n is a number entered by the user."
   ]
  },
  {
   "cell_type": "code",
   "execution_count": 25,
   "id": "bec10d37-5e0b-46a2-ac9e-ddd2a8b4beae",
   "metadata": {},
   "outputs": [
    {
     "name": "stdout",
     "output_type": "stream",
     "text": [
      "Enter the number 50\n"
     ]
    },
    {
     "name": "stdout",
     "output_type": "stream",
     "text": [
      "1 3 5 7 9 11 13 15 17 19 21 23 25 27 29 31 33 35 37 39 41 43 45 47 49 "
     ]
    }
   ],
   "source": [
    "number = int(input(\"Enter the number\"))\n",
    "\n",
    "for i in range(1,number+1):\n",
    "    if(i%2!=0):\n",
    "        print(i,end=\" \")\n",
    "        "
   ]
  },
  {
   "cell_type": "markdown",
   "id": "8352e23e-e0b8-4f7d-a46b-531938a88865",
   "metadata": {},
   "source": [
    "Q5.Write a Python program that takes a number as input and prints its multiplication table from 1 to 10."
   ]
  },
  {
   "cell_type": "code",
   "execution_count": 32,
   "id": "72b601fb-2133-4cb4-95f3-deefba45aee7",
   "metadata": {},
   "outputs": [
    {
     "name": "stdout",
     "output_type": "stream",
     "text": [
      "Enter the number: 10\n"
     ]
    },
    {
     "name": "stdout",
     "output_type": "stream",
     "text": [
      "10X1 = 10\n",
      "10X2 = 20\n",
      "10X3 = 30\n",
      "10X4 = 40\n",
      "10X5 = 50\n",
      "10X6 = 60\n",
      "10X7 = 70\n",
      "10X8 = 80\n",
      "10X9 = 90\n",
      "10X10 = 100\n"
     ]
    }
   ],
   "source": [
    "number = int(input(\"Enter the number:\"))\n",
    "\n",
    "for i in range(1,11):\n",
    "    print(f\"{number}X{i} = {number*i}\")"
   ]
  },
  {
   "cell_type": "markdown",
   "id": "1f5f9441-6243-4288-a2c8-59e9c7f42bf9",
   "metadata": {},
   "source": [
    "Q6.Write a Python program to compute the factorial of a number n using a while loop."
   ]
  },
  {
   "cell_type": "code",
   "execution_count": 44,
   "id": "7abc64f8-1285-40f0-bcbc-0374d2f7c655",
   "metadata": {},
   "outputs": [
    {
     "name": "stdout",
     "output_type": "stream",
     "text": [
      "Enter the number 10\n"
     ]
    },
    {
     "name": "stdout",
     "output_type": "stream",
     "text": [
      "3628800\n"
     ]
    }
   ],
   "source": [
    "number = int(input(\"Enter the number\"))\n",
    "i = 1\n",
    "factorial = 1\n",
    "\n",
    "while(i<=number):\n",
    "    factorial = factorial*i\n",
    "    i = i+1\n",
    "\n",
    "print(factorial)"
   ]
  },
  {
   "cell_type": "markdown",
   "id": "6968b95d-6525-4d4d-bd14-2fbeb4cb59d4",
   "metadata": {},
   "source": [
    "Q7.Write a Python program that prints all the prime numbers between 1 and n, where n is entered by the user."
   ]
  },
  {
   "cell_type": "code",
   "execution_count": 13,
   "id": "fa140519-714c-43af-849b-df5e99c51404",
   "metadata": {},
   "outputs": [
    {
     "name": "stdin",
     "output_type": "stream",
     "text": [
      "Enter the number: 7\n"
     ]
    },
    {
     "name": "stdout",
     "output_type": "stream",
     "text": [
      "6 "
     ]
    }
   ],
   "source": [
    "n = int(input(\"Enter the number:\"))\n",
    "\n",
    "for i in range(2,n):\n",
    "    if(n%i==0):\n",
    "      print(f\"{n} not a prime number\")\n",
    "        break\n",
    "else:\n",
    "     print(f\"The number {n} is a prime number\")\n",
    "    "
   ]
  }
 ],
 "metadata": {
  "kernelspec": {
   "display_name": "Python [conda env:base] *",
   "language": "python",
   "name": "conda-base-py"
  },
  "language_info": {
   "codemirror_mode": {
    "name": "ipython",
    "version": 3
   },
   "file_extension": ".py",
   "mimetype": "text/x-python",
   "name": "python",
   "nbconvert_exporter": "python",
   "pygments_lexer": "ipython3",
   "version": "3.12.7"
  }
 },
 "nbformat": 4,
 "nbformat_minor": 5
}
