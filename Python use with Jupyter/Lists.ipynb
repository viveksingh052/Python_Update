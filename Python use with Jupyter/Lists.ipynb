{
 "cells": [
  {
   "cell_type": "markdown",
   "id": "74866a3d-23e8-4618-b48d-c2364443d5ec",
   "metadata": {},
   "source": [
    "# List\n"
   ]
  },
  {
   "cell_type": "markdown",
   "id": "2712c7e8-0e09-4923-9718-0abb88969e28",
   "metadata": {},
   "source": [
    "### List is a homogenous collection of data items that are enclosed in square brackets and lists are mutable."
   ]
  },
  {
   "cell_type": "code",
   "execution_count": 28,
   "id": "cb950a54-7a71-44f9-8472-abfb911d20ee",
   "metadata": {},
   "outputs": [
    {
     "name": "stdout",
     "output_type": "stream",
     "text": [
      "[1, 2, 3, 4, 4]\n",
      "[1, 2, 3, 4, 5]\n"
     ]
    }
   ],
   "source": [
    "lst = [1,2,3,4,4]\n",
    "print(lst)\n",
    "\n",
    "lst1 = list((1,2,3,4,5))\n",
    "print(lst1)\n",
    "# methods are functions that are associated with an object.\n"
   ]
  },
  {
   "cell_type": "code",
   "execution_count": 32,
   "id": "8eae4212-b3ae-4b5f-9ef4-fba0a79423c7",
   "metadata": {},
   "outputs": [
    {
     "name": "stdout",
     "output_type": "stream",
     "text": [
      "[1, 2, 3, 4, 4, 'vivek']\n"
     ]
    }
   ],
   "source": [
    "#append add an element at the end of the list\n",
    "lst.append(\"vivek\")\n",
    "print(lst)"
   ]
  },
  {
   "cell_type": "code",
   "execution_count": 64,
   "id": "1e69ad92-64c1-4a71-80fc-bfffdcad0d63",
   "metadata": {},
   "outputs": [
    {
     "name": "stdout",
     "output_type": "stream",
     "text": [
      "[1, 2, 3, 4, 5, 6, 7, 8, 9]\n",
      "[1, 2, 3, 4, 5, 6, 7, 8]\n",
      "[2, 3, 4, 5, 6, 7, 8]\n",
      "['vivek', 2, 3, 4, 5, 6, 7, 8]\n",
      "[2, 3, 4, 5, 6, 7, 8]\n"
     ]
    },
    {
     "data": {
      "text/plain": [
       "7"
      ]
     },
     "execution_count": 64,
     "metadata": {},
     "output_type": "execute_result"
    }
   ],
   "source": [
    "lst2 = [1,2,3,4,5,6]\n",
    "lst2.extend([7,8,9])\n",
    "print(lst2)\n",
    "\n",
    "# min(lst2)\n",
    "\n",
    "# max(lst2)\n",
    "\n",
    "lst2.pop()\n",
    "print(lst2)\n",
    "\n",
    "lst2.pop(0)\n",
    "print(lst2)\n",
    "\n",
    "lst2.insert(0,\"vivek\")\n",
    "print(lst2)\n",
    "\n",
    "lst2.pop(0)\n",
    "print(lst2)\n",
    "\n",
    "sum(lst2)\n",
    "\n",
    "lst2.count(2)\n",
    "len(lst2)\n",
    "\n"
   ]
  }
 ],
 "metadata": {
  "kernelspec": {
   "display_name": "Python [conda env:base] *",
   "language": "python",
   "name": "conda-base-py"
  },
  "language_info": {
   "codemirror_mode": {
    "name": "ipython",
    "version": 3
   },
   "file_extension": ".py",
   "mimetype": "text/x-python",
   "name": "python",
   "nbconvert_exporter": "python",
   "pygments_lexer": "ipython3",
   "version": "3.12.7"
  }
 },
 "nbformat": 4,
 "nbformat_minor": 5
}
